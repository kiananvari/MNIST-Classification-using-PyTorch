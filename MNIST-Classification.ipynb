{
  "nbformat": 4,
  "nbformat_minor": 0,
  "metadata": {
    "colab": {
      "provenance": []
    },
    "kernelspec": {
      "name": "python3",
      "display_name": "Python 3"
    },
    "language_info": {
      "name": "python"
    }
  },
  "cells": [
    {
      "cell_type": "markdown",
      "source": [
        "# Pytorch workshop\n",
        "Kian Anvari\n",
        "\n",
        "Github: github.com/kiananvari\n",
        "\n",
        "Email: kiananvari@yahoo.com\n",
        "\n",
        "Telegram: @kian_av"
      ],
      "metadata": {
        "id": "AtgU1TF8_Jv8"
      }
    },
    {
      "cell_type": "markdown",
      "source": [
        "# Import Libraries"
      ],
      "metadata": {
        "id": "zUkzdA-i8mt-"
      }
    },
    {
      "cell_type": "code",
      "source": [
        "import torch\n",
        "from tqdm import tqdm\n",
        "import torch.nn as nn\n",
        "import torchvision\n",
        "import torchvision.transforms as transforms\n",
        "from sklearn.model_selection import train_test_split\n",
        "\n",
        "import matplotlib.pyplot as plt"
      ],
      "metadata": {
        "id": "rARKDcOo8pFL"
      },
      "execution_count": 2,
      "outputs": []
    },
    {
      "cell_type": "markdown",
      "source": [
        "# Define Device"
      ],
      "metadata": {
        "id": "jmnfliLXIU4p"
      }
    },
    {
      "cell_type": "code",
      "source": [
        "device = torch.device('cuda' if torch.cuda.is_available() else 'cpu')"
      ],
      "metadata": {
        "id": "Fyz3Jxfs3vR8"
      },
      "execution_count": 3,
      "outputs": []
    },
    {
      "cell_type": "markdown",
      "source": [
        "#Configs"
      ],
      "metadata": {
        "id": "GpAhloXTIY0i"
      }
    },
    {
      "cell_type": "code",
      "source": [
        "input_size = 784 #28*28\n",
        "num_classes = 10\n",
        "num_epochs = 5\n",
        "batch_size = 100\n",
        "learning_rate = 0.001"
      ],
      "metadata": {
        "id": "pb-GR8bl3_De"
      },
      "execution_count": 4,
      "outputs": []
    },
    {
      "cell_type": "markdown",
      "source": [
        "# Dataset(MNIST)"
      ],
      "metadata": {
        "id": "WR2SWbDj4RAT"
      }
    },
    {
      "cell_type": "code",
      "source": [
        "preprocess = transforms.Compose([\n",
        "    transforms.ToTensor(),\n",
        "    # transforms.Normalize(mean=(0.5,), std=(0.5,))\n",
        "])"
      ],
      "metadata": {
        "id": "_huf5ygZKqXz"
      },
      "execution_count": 5,
      "outputs": []
    },
    {
      "cell_type": "code",
      "source": [
        "train_dataset = torchvision.datasets.MNIST(root='./data', train=True,\n",
        "                                           transform=preprocess, download=True)\n",
        "\n",
        "\n",
        "train_dataset, validation_dataset = train_test_split(train_dataset, test_size=0.2, random_state=42)\n",
        "\n",
        "\n",
        "test_dataset = torchvision.datasets.MNIST(root='./data', train=False,\n",
        "                                          transform=preprocess, download=True)"
      ],
      "metadata": {
        "id": "b5DXLmLs4LSR"
      },
      "execution_count": 6,
      "outputs": []
    },
    {
      "cell_type": "code",
      "source": [
        "train_loader = torch.utils.data.DataLoader(dataset=train_dataset, batch_size=batch_size,\n",
        "                                           shuffle=True)\n",
        "\n",
        "validation_loader = torch.utils.data.DataLoader(dataset=validation_dataset, batch_size=batch_size,\n",
        "                                           shuffle=True)\n",
        "\n",
        "test_loader = torch.utils.data.DataLoader(dataset=test_dataset, batch_size=batch_size,\n",
        "                                          shuffle=False)"
      ],
      "metadata": {
        "id": "Y3EAt13k4hpl"
      },
      "execution_count": 7,
      "outputs": []
    },
    {
      "cell_type": "code",
      "source": [
        "examples = iter(train_loader)\n",
        "samples, labels = next(examples)\n",
        "\n",
        "print(images.shape)\n",
        "print(labels.shape)\n"
      ],
      "metadata": {
        "colab": {
          "base_uri": "https://localhost:8080/"
        },
        "id": "nICiNHd44dpr",
        "outputId": "ee2a9a5f-9ef8-4c2a-bcb9-b07629c2dcb1"
      },
      "execution_count": 11,
      "outputs": [
        {
          "output_type": "stream",
          "name": "stdout",
          "text": [
            "torch.Size([100, 1, 28, 28])\n",
            "torch.Size([100])\n"
          ]
        }
      ]
    },
    {
      "cell_type": "code",
      "source": [
        "import matplotlib.pyplot as plt\n",
        "\n",
        "# Create a figure with subplots\n",
        "fig = plt.figure(figsize=(5, 3))\n",
        "\n",
        "# Iterate over the first 6 samples\n",
        "for i in range(6):\n",
        "    # Add a subplot to the figure\n",
        "    ax = fig.add_subplot(2, 3, i+1)\n",
        "\n",
        "    # Display the image\n",
        "    ax.imshow(samples[i][0], cmap=\"gray\")\n",
        "\n",
        "    ax.set_title(f\"label = {labels[i]}\")\n",
        "    ax.axis(\"off\")\n",
        "\n",
        "# Adjust the spacing between subplots\n",
        "fig.tight_layout()\n",
        "\n",
        "# Show the figure\n",
        "plt.show()"
      ],
      "metadata": {
        "colab": {
          "base_uri": "https://localhost:8080/",
          "height": 306
        },
        "id": "3gnhQCp51t0f",
        "outputId": "9312e1ae-ac24-49d7-bb60-f04514ef8237"
      },
      "execution_count": 12,
      "outputs": [
        {
          "output_type": "display_data",
          "data": {
            "text/plain": [
              "<Figure size 500x300 with 6 Axes>"
            ],
            "image/png": "[encoded data removed]"
          },
          "metadata": {}
        }
      ]
    },
    {
      "cell_type": "markdown",
      "source": [
        "# Define Model"
      ],
      "metadata": {
        "id": "z422UjMyIvxH"
      }
    },
    {
      "cell_type": "code",
      "source": [
        "class MLP_Net(nn.Module):\n",
        "  def __init__(self, input_size, num_classes):\n",
        "    super(MLP_Net, self).__init__()\n",
        "\n",
        "    self.l1 = nn.Linear(input_size, 300)\n",
        "    self.l2 = nn.Linear(300, 200)\n",
        "    self.l3 = nn.Linear(200, 100)\n",
        "    self.l4 = nn.Linear(100, 50)\n",
        "    self.l5 = nn.Linear(50, num_classes)\n",
        "\n",
        "\n",
        "    self.relu = nn.ReLU()\n",
        "    self.gleu = nn.GELU()\n",
        "\n",
        "\n",
        "\n",
        "  def forward(self, x):\n",
        "    out = self.l1(x)\n",
        "    out = self.relu(out)\n",
        "    out = self.l2(out)\n",
        "    out = self.gleu(out)\n",
        "    out = self.l3(out)\n",
        "    out = self.relu(out)\n",
        "\n",
        "    out = self.l4(out)\n",
        "    out = self.relu(out)\n",
        "\n",
        "    out = self.l5(out)\n",
        "\n",
        "    return out"
      ],
      "metadata": {
        "id": "wklPeF0v7d0z"
      },
      "execution_count": 29,
      "outputs": []
    },
    {
      "cell_type": "code",
      "source": [
        "model = MLP_Net(input_size, num_classes)\n",
        "model = model.to(device)"
      ],
      "metadata": {
        "id": "M4LNUsj28dA7"
      },
      "execution_count": 30,
      "outputs": []
    },
    {
      "cell_type": "code",
      "source": [
        "model"
      ],
      "metadata": {
        "colab": {
          "base_uri": "https://localhost:8080/"
        },
        "id": "sru9ky5d6YM7",
        "outputId": "e33089c0-0df6-4b3d-f17a-da6ddfff4f4c"
      },
      "execution_count": 31,
      "outputs": [
        {
          "output_type": "execute_result",
          "data": {
            "text/plain": [
              "MLP_Net(\n",
              "  (l1): Linear(in_features=784, out_features=300, bias=True)\n",
              "  (l2): Linear(in_features=300, out_features=200, bias=True)\n",
              "  (l3): Linear(in_features=200, out_features=100, bias=True)\n",
              "  (l4): Linear(in_features=100, out_features=50, bias=True)\n",
              "  (l5): Linear(in_features=50, out_features=10, bias=True)\n",
              "  (relu): ReLU()\n",
              "  (gleu): GELU(approximate='none')\n",
              ")"
            ]
          },
          "metadata": {},
          "execution_count": 31
        }
      ]
    },
    {
      "cell_type": "markdown",
      "source": [
        "# Define Criterion and Optimizer"
      ],
      "metadata": {
        "id": "fZrodroM_fe8"
      }
    },
    {
      "cell_type": "code",
      "source": [
        "criterion = nn.CrossEntropyLoss()\n",
        "\n",
        "\n",
        "optimizer = torch.optim.Adam(model.parameters(), lr=learning_rate)"
      ],
      "metadata": {
        "id": "Dadh2TzB8k40"
      },
      "execution_count": 32,
      "outputs": []
    },
    {
      "cell_type": "markdown",
      "source": [
        "# Train"
      ],
      "metadata": {
        "id": "tlFsD4t3I30j"
      }
    },
    {
      "cell_type": "code",
      "source": [
        "train_loss_history = []\n",
        "train_accuracy_history = []\n",
        "val_loss_history = []\n",
        "val_accuracy_history = []\n",
        "\n",
        "for epoch in range(num_epochs):\n",
        "\n",
        "    # Training phase\n",
        "    model.train()\n",
        "    train_loss = 0.0\n",
        "    train_correct = 0\n",
        "    train_total = 0\n",
        "\n",
        "    progress_bar = tqdm(enumerate(train_loader), total=len(train_loader), desc=f\"Epoch {epoch+1}/{num_epochs}\")\n",
        "    for i, (images, labels) in progress_bar:\n",
        "\n",
        "        optimizer.zero_grad()\n",
        "\n",
        "        images = images.reshape(-1, 28*28).to(device)\n",
        "        labels = labels.to(device)\n",
        "\n",
        "        # Forward pass\n",
        "        outputs = model(images)\n",
        "        loss = criterion(outputs, labels)\n",
        "\n",
        "        # Backward pass and optimization\n",
        "        loss.backward()\n",
        "        optimizer.step()\n",
        "\n",
        "        train_loss += loss.item()\n",
        "\n",
        "        #value, index\n",
        "        _, predicted = torch.max(outputs.data, 1)\n",
        "\n",
        "        train_total += labels.size(0)\n",
        "        train_correct += (predicted == labels).sum().item()\n",
        "\n",
        "        progress_bar.set_postfix({'Loss': train_loss / (i + 1), 'Accuracy': 100 * train_correct / train_total})\n",
        "\n",
        "    # Validation phase\n",
        "    model.eval()\n",
        "    val_loss = 0.0\n",
        "    val_correct = 0\n",
        "    val_total = 0\n",
        "\n",
        "    with torch.no_grad():\n",
        "        for images, labels in validation_loader:\n",
        "            images = images.reshape(-1, 28*28).to(device)\n",
        "            labels = labels.to(device)\n",
        "\n",
        "            # Forward pass\n",
        "            outputs = model(images)\n",
        "            val_loss += criterion(outputs, labels).item()\n",
        "\n",
        "            # Calculate accuracy\n",
        "            _, predicted = torch.max(outputs.data, 1)\n",
        "            val_total += labels.size(0)\n",
        "            val_correct += (predicted == labels).sum().item()\n",
        "\n",
        "\n",
        "\n",
        "    train_loss /= len(train_loader)\n",
        "    train_accuracy = 100 * train_correct / train_total\n",
        "    val_loss /= len(validation_loader)\n",
        "    val_accuracy = 100 * val_correct / val_total\n",
        "\n",
        "    train_loss_history.append(train_loss)\n",
        "    train_accuracy_history.append(train_accuracy)\n",
        "    val_loss_history.append(val_loss)\n",
        "    val_accuracy_history.append(val_accuracy)\n",
        "\n",
        "    print(f\"Epoch {epoch+1}/{num_epochs}, \"\n",
        "          f\"Train Loss: {train_loss:.4f}, Train Accuracy: {train_accuracy:.2f}%, \"\n",
        "          f\"Val Loss: {val_loss:.4f}, Val Accuracy: {val_accuracy:.2f}%\")\n"
      ],
      "metadata": {
        "colab": {
          "base_uri": "https://localhost:8080/"
        },
        "id": "gQvinOko_zo-",
        "outputId": "36f927d9-0733-49e1-cdf9-e6eb794624e5"
      },
      "execution_count": 33,
      "outputs": [
        {
          "output_type": "stream",
          "name": "stderr",
          "text": [
            "Epoch 1/5: 100%|██████████| 480/480 [00:07<00:00, 64.12it/s, Loss=0.423, Accuracy=86.8]\n"
          ]
        },
        {
          "output_type": "stream",
          "name": "stdout",
          "text": [
            "Epoch 1/5, Train Loss: 0.4234, Train Accuracy: 86.82%, Val Loss: 0.2096, Val Accuracy: 93.54%\n"
          ]
        },
        {
          "output_type": "stream",
          "name": "stderr",
          "text": [
            "Epoch 2/5: 100%|██████████| 480/480 [00:07<00:00, 68.14it/s, Loss=0.146, Accuracy=95.6]\n"
          ]
        },
        {
          "output_type": "stream",
          "name": "stdout",
          "text": [
            "Epoch 2/5, Train Loss: 0.1461, Train Accuracy: 95.63%, Val Loss: 0.1239, Val Accuracy: 96.12%\n"
          ]
        },
        {
          "output_type": "stream",
          "name": "stderr",
          "text": [
            "Epoch 3/5: 100%|██████████| 480/480 [00:07<00:00, 63.88it/s, Loss=0.0996, Accuracy=97]\n"
          ]
        },
        {
          "output_type": "stream",
          "name": "stdout",
          "text": [
            "Epoch 3/5, Train Loss: 0.0996, Train Accuracy: 96.99%, Val Loss: 0.1036, Val Accuracy: 96.92%\n"
          ]
        },
        {
          "output_type": "stream",
          "name": "stderr",
          "text": [
            "Epoch 4/5: 100%|██████████| 480/480 [00:07<00:00, 61.98it/s, Loss=0.0726, Accuracy=97.8]\n"
          ]
        },
        {
          "output_type": "stream",
          "name": "stdout",
          "text": [
            "Epoch 4/5, Train Loss: 0.0726, Train Accuracy: 97.78%, Val Loss: 0.0954, Val Accuracy: 97.24%\n"
          ]
        },
        {
          "output_type": "stream",
          "name": "stderr",
          "text": [
            "Epoch 5/5: 100%|██████████| 480/480 [00:08<00:00, 57.64it/s, Loss=0.0548, Accuracy=98.3]\n"
          ]
        },
        {
          "output_type": "stream",
          "name": "stdout",
          "text": [
            "Epoch 5/5, Train Loss: 0.0548, Train Accuracy: 98.28%, Val Loss: 0.0938, Val Accuracy: 97.28%\n"
          ]
        }
      ]
    },
    {
      "cell_type": "code",
      "source": [
        "import numpy as np"
      ],
      "metadata": {
        "id": "sijjbS8rcdk-"
      },
      "execution_count": 21,
      "outputs": []
    },
    {
      "cell_type": "code",
      "source": [
        "epochs = np.arange(1, num_epochs + 1)\n",
        "\n",
        "plt.figure(figsize=(10, 4))\n",
        "plt.subplot(1, 2, 1)\n",
        "plt.plot(epochs, train_loss_history, 'b-', label='Train Loss')\n",
        "plt.plot(epochs, val_loss_history, 'r-', label='Val Loss')\n",
        "plt.xlabel('Epochs')\n",
        "plt.ylabel('Loss')\n",
        "plt.title('Training and Validation Loss')\n",
        "plt.legend()\n",
        "\n",
        "plt.subplot(1, 2, 2)\n",
        "plt.plot(epochs, train_accuracy_history, 'b-', label='Train Accuracy')\n",
        "plt.plot(epochs, val_accuracy_history, 'r-', label='Val Accuracy')\n",
        "plt.xlabel('Epochs')\n",
        "plt.ylabel('Accuracy (%)')\n",
        "plt.title('Training and Validation Accuracy')\n",
        "plt.legend()\n",
        "\n",
        "plt.tight_layout()\n",
        "plt.show()"
      ],
      "metadata": {
        "colab": {
          "base_uri": "https://localhost:8080/",
          "height": 407
        },
        "id": "fNgLZ4SgG21t",
        "outputId": "95ef7d38-298a-473e-8eb2-9117d457ca05"
      },
      "execution_count": 34,
      "outputs": [
        {
          "output_type": "display_data",
          "data": {
            "text/plain": [
              "<Figure size 1000x400 with 2 Axes>"
            ],
            "image/png": "[encoded data removed]"
          },
          "metadata": {}
        }
      ]
    },
    {
      "cell_type": "markdown",
      "source": [
        "# Test"
      ],
      "metadata": {
        "id": "aoM7_mhgG5kg"
      }
    },
    {
      "cell_type": "code",
      "source": [
        "with torch.no_grad():\n",
        "  n_correct = 0\n",
        "  n_samples = 0\n",
        "\n",
        "  for images, labels in test_loader:\n",
        "    images = images.reshape(-1, 28*28).to(device)\n",
        "    labels = labels.to(device)\n",
        "\n",
        "    outputs = model(images)\n",
        "\n",
        "    #value, index\n",
        "    _, predictions = torch.max(outputs, 1)\n",
        "    n_samples += labels.shape[0]\n",
        "    n_correct += (predictions == labels).sum().item()\n",
        "\n",
        "  acc = 100.0 * n_correct / n_samples\n",
        "  print(f\"accuracy = {acc}\")"
      ],
      "metadata": {
        "colab": {
          "base_uri": "https://localhost:8080/"
        },
        "id": "KBDPrkszBdX9",
        "outputId": "49d1d26a-60d1-4761-bcb8-a8fe6535ffb7"
      },
      "execution_count": 35,
      "outputs": [
        {
          "output_type": "stream",
          "name": "stdout",
          "text": [
            "accuracy = 97.43\n"
          ]
        }
      ]
    },
    {
      "cell_type": "code",
      "source": [],
      "metadata": {
        "id": "3Zi-S-m0_F6b"
      },
      "execution_count": null,
      "outputs": []
    }
  ]
}